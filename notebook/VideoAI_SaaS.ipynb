{
  "nbformat": 4,
  "nbformat_minor": 0,
  "metadata": {
    "colab": {
      "name": "VideoAI_SaaS.ipynb",
      "provenance": [],
      "collapsed_sections": []
    },
    "kernelspec": {
      "name": "python3",
      "display_name": "Python 3"
    },
    "accelerator": "GPU"
  },
  "cells": [
    {
      "cell_type": "markdown",
      "metadata": {
        "id": "SVRE2cuyIXlC",
        "colab_type": "text"
      },
      "source": [
        "# **VideoAI - Team Space Force**\n",
        "\n",
        "This is the project made during Codes N Gears 2020 Edition.\n",
        "\n",
        "Contributors:\n",
        "- Abhilash\n",
        "- Dhananjay\n",
        "- Mohit\n",
        "- Karthick Prasath\n",
        "- Sharan Anilkumar"
      ]
    },
    {
      "cell_type": "markdown",
      "metadata": {
        "id": "8XWd_KhqJvgN",
        "colab_type": "text"
      },
      "source": [
        "## Requirements"
      ]
    },
    {
      "cell_type": "code",
      "metadata": {
        "id": "VMrLooopDN3M",
        "colab_type": "code",
        "colab": {}
      },
      "source": [
        "#Dependencies required within Colab environment\n",
        "\n",
        "# !pip install ffmpeg\n",
        "# !pip install torchvision==0.5\n",
        "# !pip install torch==1.4\n",
        "!pip install pyngrok\n",
        "!pip install flask_cors\n",
        "!pip install flask\n",
        "!pip install gunicorn"
      ],
      "execution_count": null,
      "outputs": []
    },
    {
      "cell_type": "markdown",
      "metadata": {
        "id": "tDODMOAnKYIp",
        "colab_type": "text"
      },
      "source": [
        "## Archives"
      ]
    },
    {
      "cell_type": "code",
      "metadata": {
        "id": "XXcPu0A9ooi1",
        "colab_type": "code",
        "colab": {}
      },
      "source": [
        "from google.colab import drive\n",
        "drive.mount('/content/drive')"
      ],
      "execution_count": null,
      "outputs": []
    },
    {
      "cell_type": "code",
      "metadata": {
        "id": "QPrEkSRQiLMJ",
        "colab_type": "code",
        "colab": {}
      },
      "source": [
        "# cleanup\n",
        "# # !rm -rf <path_to_project>"
      ],
      "execution_count": null,
      "outputs": []
    },
    {
      "cell_type": "markdown",
      "metadata": {
        "id": "E7PDIhU3e_-k",
        "colab_type": "text"
      },
      "source": [
        "## Setup Web API on GPU Cloud"
      ]
    },
    {
      "cell_type": "code",
      "metadata": {
        "id": "Tq3FzYCVV2-G",
        "colab_type": "code",
        "colab": {}
      },
      "source": [
        "import os\n",
        "from getpass import getpass\n",
        "import urllib\n",
        "import subprocess\n",
        "\n",
        "user = urllib.parse.quote(input('User name: '))\n",
        "password = getpass('Password: ')\n",
        "password = urllib.parse.quote(password) # your password is converted into url format\n",
        "\n",
        "!git config --global http.sslverify false\n",
        "!git clone <path_to_repo> <clone_dir_name>\n",
        "password = \"\" # removing the password from the variable"
      ],
      "execution_count": null,
      "outputs": []
    },
    {
      "cell_type": "code",
      "metadata": {
        "id": "yhXF6vh3sH3M",
        "colab_type": "code",
        "colab": {}
      },
      "source": [
        "%cd <clone_dir_name>/backend"
      ],
      "execution_count": null,
      "outputs": []
    },
    {
      "cell_type": "code",
      "metadata": {
        "id": "uOWubozPeM5q",
        "colab_type": "code",
        "colab": {}
      },
      "source": [
        "!cp -r <clone_dir_name>/backend\n",
        "%cd <clone_dir_name>/backend\n",
        "!unzip -u align.zip"
      ],
      "execution_count": null,
      "outputs": []
    },
    {
      "cell_type": "code",
      "metadata": {
        "id": "PeQxFFWMLG7A",
        "colab_type": "code",
        "colab": {}
      },
      "source": [
        "%cd <path_to_repo>/backend\n",
        "!PYTHONUNBUFFERED=TRUE gunicorn server:app --bind 0.0.0.0:10009 --daemon --access-logfile out.txt --error-logfile err.txt --capture-output --log-level debug"
      ],
      "execution_count": null,
      "outputs": []
    },
    {
      "cell_type": "code",
      "metadata": {
        "id": "RTURclHnceYJ",
        "colab_type": "code",
        "colab": {}
      },
      "source": [
        "from pyngrok import ngrok\n",
        "ssh_url = ngrok.connect(10009, \"http\")\n",
        "print(ssh_url)"
      ],
      "execution_count": null,
      "outputs": []
    }
  ]
}